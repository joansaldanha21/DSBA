{
  "nbformat": 4,
  "nbformat_minor": 0,
  "metadata": {
    "colab": {
      "name": "Assignment_2.ipynb",
      "provenance": [],
      "authorship_tag": "ABX9TyNJ+yfVfUyjVAQgQagEW9qc"
    },
    "kernelspec": {
      "name": "python3",
      "display_name": "Python 3"
    }
  },
  "cells": [
    {
      "cell_type": "code",
      "metadata": {
        "id": "W3jf3JIbozKl",
        "colab_type": "code",
        "colab": {
          "base_uri": "https://localhost:8080/",
          "height": 204
        },
        "outputId": "ca389fd0-3a15-4e44-a5db-3ea7292b979a"
      },
      "source": [
        "# Assignment 2.a : To print a pattern\n",
        "\n",
        "for i in range(1,6,1):\n",
        "    print ((\"*\")*i)\n",
        "\n",
        "for i in range(4,0,-1):\n",
        "    print ((\"*\")*i)\n",
        "\n",
        "# 2 to reverse a word after accepting input from user\n",
        "Wordrev = str(input(\"Enter a Word :\"))\n",
        "print(\"The reverse of \", Wordrev , \" is \" ,Wordrev[::-1])"
      ],
      "execution_count": 3,
      "outputs": [
        {
          "output_type": "stream",
          "text": [
            "*\n",
            "**\n",
            "***\n",
            "****\n",
            "*****\n",
            "****\n",
            "***\n",
            "**\n",
            "*\n",
            "Enter a Word :abcd\n",
            "The reverse of  abcd  is  dcba\n"
          ],
          "name": "stdout"
        }
      ]
    }
  ]
}