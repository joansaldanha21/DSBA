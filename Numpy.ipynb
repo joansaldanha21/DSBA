{
  "nbformat": 4,
  "nbformat_minor": 0,
  "metadata": {
    "colab": {
      "name": "Untitled0.ipynb",
      "provenance": [],
      "authorship_tag": "ABX9TyP1a08wLUtY9lrnsM/9t1lN",
      "include_colab_link": true
    },
    "kernelspec": {
      "name": "python3",
      "display_name": "Python 3"
    }
  },
  "cells": [
    {
      "cell_type": "markdown",
      "metadata": {
        "id": "view-in-github",
        "colab_type": "text"
      },
      "source": [
        "<a href=\"https://colab.research.google.com/github/joansaldanha21/DSBA/blob/master/Numpy.ipynb\" target=\"_parent\"><img src=\"https://colab.research.google.com/assets/colab-badge.svg\" alt=\"Open In Colab\"/></a>"
      ]
    },
    {
      "cell_type": "code",
      "metadata": {
        "id": "nqqZE09_1O_y",
        "colab_type": "code",
        "colab": {
          "base_uri": "https://localhost:8080/",
          "height": 34
        },
        "outputId": "0a20d50f-c15a-4a82-d7b7-2ba1074b2f27"
      },
      "source": [
        "import numpy as np\n",
        "\n",
        "arr = [10,20,30,40,50,60,70,80,90,100]\n",
        "arr = np.array(arr)\n",
        "\n",
        "k=4\n",
        "r=len(arr)-k+1\n",
        "y=[0]*r\n",
        "val=0\n",
        "\n",
        "for i in range(r):\n",
        "    for j in range(i,(i+k)):\n",
        "        val += arr[j]\n",
        "    y[i]=int(val/4)\n",
        "    val=0\n",
        "\n",
        "print(y)\n",
        "        "
      ],
      "execution_count": 1,
      "outputs": [
        {
          "output_type": "stream",
          "text": [
            "[25, 35, 45, 55, 65, 75, 85]\n"
          ],
          "name": "stdout"
        }
      ]
    },
    {
      "cell_type": "code",
      "metadata": {
        "id": "VOzN1yYf1T56",
        "colab_type": "code",
        "colab": {
          "base_uri": "https://localhost:8080/",
          "height": 34
        },
        "outputId": "dc420b00-cbe0-457f-ae24-b8e2631ffa76"
      },
      "source": [
        "arr = [3, 5, 7, 2, 8, 10, 11, 65, 72, 81, 99, 100, 150]\n",
        "arr = np.array(arr)\n",
        "\n",
        "k=3\n",
        "r=len(arr)-k+1\n",
        "y=[0]*r\n",
        "val=0\n",
        "\n",
        "for i in range(r):\n",
        "    for j in range(i,(i+k)):\n",
        "        val += arr[j]\n",
        "    y[i]=int(val/4)\n",
        "    val=0\n",
        "\n",
        "print(y)"
      ],
      "execution_count": 2,
      "outputs": [
        {
          "output_type": "stream",
          "text": [
            "[3, 3, 4, 5, 7, 21, 37, 54, 63, 70, 87]\n"
          ],
          "name": "stdout"
        }
      ]
    }
  ]
}