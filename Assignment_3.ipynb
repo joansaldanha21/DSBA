{
  "nbformat": 4,
  "nbformat_minor": 0,
  "metadata": {
    "colab": {
      "name": "Assignment_3.ipynb",
      "provenance": [],
      "collapsed_sections": [],
      "authorship_tag": "ABX9TyPnT9xOwn3UDNA0/vCLQQ8v"
    },
    "kernelspec": {
      "name": "python3",
      "display_name": "Python 3"
    }
  },
  "cells": [
    {
      "cell_type": "code",
      "metadata": {
        "id": "M8rfBGhrSqst",
        "colab_type": "code",
        "colab": {
          "base_uri": "https://localhost:8080/",
          "height": 119
        },
        "outputId": "9cb43880-67cd-4332-8384-adba1fe9e6a7"
      },
      "source": [
        "# 1.1) Build your own myreduce fn exactly like reduce() fn\n",
        "\n",
        "def concat(x1, x2):\n",
        "    return str(x1) + str(x2)\n",
        "\n",
        "def myreduce(func, inp_Lst):\n",
        "    a = inp_Lst[0]\n",
        "    for i in inp_Lst[1:]:\n",
        "        a = func(a,i)\n",
        "    return a\n",
        "\n",
        "print(\"Myreduce Func o/p : \" , myreduce(concat,[1,2,3]))\n",
        "\n",
        "# 1.1) Build your own myfilter fn exactly like reduce() fn\n",
        "\n",
        "def even_check(num):\n",
        "    if num%2 == 0:\n",
        "        return True\n",
        "\n",
        "def myfilter(func,inp_lst):\n",
        "    m=[]\n",
        "    for i in lst[0:]:\n",
        "        if func(i) == True:\n",
        "            m.append(i)\n",
        "    return m\n",
        "\n",
        "lst = range(20)\n",
        "print (\"Myfilter Func o/p : \" , myfilter(even_check,lst))\n",
        "\n",
        "# 2) Print a pattern\n",
        "print ([ a * i for a in ['x','y','z'] for i in range(1, 5, 1)])\n",
        "\n",
        "print ([ a * i for i in range(1, 5, 1) for a in ['x','y','z'] ])\n",
        "\n",
        "print (str([[a] for i in range(2,5,1) for a in range(i,i+3,1)]) + \" \" + str([[i for i in range(a,a+4,1)] for a in range(2,6,1)]))\n",
        "\n",
        "print ([(a,i) for i in range(1,4,1) for a in range(1,4,1)])"
      ],
      "execution_count": 2,
      "outputs": [
        {
          "output_type": "stream",
          "text": [
            "Myreduce Func o/p :  123\n",
            "Myfilter Func o/p :  [0, 2, 4, 6, 8, 10, 12, 14, 16, 18]\n",
            "['x', 'xx', 'xxx', 'xxxx', 'y', 'yy', 'yyy', 'yyyy', 'z', 'zz', 'zzz', 'zzzz']\n",
            "['x', 'y', 'z', 'xx', 'yy', 'zz', 'xxx', 'yyy', 'zzz', 'xxxx', 'yyyy', 'zzzz']\n",
            "[[2], [3], [4], [3], [4], [5], [4], [5], [6]] [[2, 3, 4, 5], [3, 4, 5, 6], [4, 5, 6, 7], [5, 6, 7, 8]]\n",
            "[(1, 1), (2, 1), (3, 1), (1, 2), (2, 2), (3, 2), (1, 3), (2, 3), (3, 3)]\n"
          ],
          "name": "stdout"
        }
      ]
    }
  ]
}