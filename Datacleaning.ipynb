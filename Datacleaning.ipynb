{
  "nbformat": 4,
  "nbformat_minor": 0,
  "metadata": {
    "colab": {
      "name": "Datacleaning.ipynb",
      "provenance": [],
      "collapsed_sections": [],
      "authorship_tag": "ABX9TyOeiOjPBSPSzgqda86JqOB3",
      "include_colab_link": true
    },
    "kernelspec": {
      "name": "python3",
      "display_name": "Python 3"
    }
  },
  "cells": [
    {
      "cell_type": "markdown",
      "metadata": {
        "id": "view-in-github",
        "colab_type": "text"
      },
      "source": [
        "<a href=\"https://colab.research.google.com/github/joansaldanha21/DSBA/blob/master/Datacleaning.ipynb\" target=\"_parent\"><img src=\"https://colab.research.google.com/assets/colab-badge.svg\" alt=\"Open In Colab\"/></a>"
      ]
    },
    {
      "cell_type": "code",
      "metadata": {
        "id": "Cj84Q2KVNBge",
        "colab_type": "code",
        "colab": {}
      },
      "source": [
        "import pandas as pd\n",
        "import numpy as np\n",
        "\n",
        "df = pd.DataFrame({'From_To': ['LoNDon_paris', 'MAdrid_miLAN',\n",
        "'londON_StockhOlm',\n",
        "\n",
        "'Budapest_PaRis', 'Brussels_londOn'],\n",
        "'FlightNumber': [np.nan, np.nan, np.nan, 10075, np.nan],\n",
        "'RecentDelays': [[23, 47], [], [24, 43, 87], [13], [67, 32]],\n",
        "'Airline': ['KLM(!)', '<Air France> (12)', '(British Airways. )',\n",
        "'12. Air France', '\"Swiss Air\"']})\n",
        "\n",
        "\n"
      ],
      "execution_count": 6,
      "outputs": []
    },
    {
      "cell_type": "code",
      "metadata": {
        "id": "3fuDj1emNFVp",
        "colab_type": "code",
        "colab": {
          "base_uri": "https://localhost:8080/",
          "height": 102
        },
        "outputId": "a2ddde85-822c-4a95-e1cf-f3658775efe0"
      },
      "source": [
        "print (df.dtypes)"
      ],
      "execution_count": 247,
      "outputs": [
        {
          "output_type": "stream",
          "text": [
            "From_To          object\n",
            "FlightNumber    float64\n",
            "RecentDelays     object\n",
            "Airline          object\n",
            "dtype: object\n"
          ],
          "name": "stdout"
        }
      ]
    },
    {
      "cell_type": "code",
      "metadata": {
        "id": "pSKUE_THw4pw",
        "colab_type": "code",
        "colab": {
          "base_uri": "https://localhost:8080/",
          "height": 119
        },
        "outputId": "21b99800-d778-454b-d47e-d277f26ced5d"
      },
      "source": [
        "# 1 Some values in the the FlightNumber column are missing. These numbers are\n",
        "# meant to increase by 10 with each row so 10055 and 10075 need to be put in\n",
        "# place. Fill in these missing numbers and make the column an integer column\n",
        "# (instead of a float column).\n",
        "# This function will look for a value in the col and build the remaining values by the increment given\n",
        "def Missing_Val_Increment_by(Colname,Incrementby):\n",
        "  if (df[Colname].isna().sum()) != len(df[Colname]):\n",
        "    Col_Loc = df.columns.get_loc(Colname)\n",
        "    for i in df[Colname].index:\n",
        "        if (pd.isnull(df.iloc[i,Col_Loc])):\n",
        "          a = i+1\n",
        "          if (a >= len(df[Colname]) and i > 0):\n",
        "              a=0\n",
        "          while (pd.isnull(df.iloc[a,Col_Loc]) and a != i):\n",
        "            a=a+1\n",
        "            if (a >= len(df[Colname]) and i > 0):\n",
        "             a=0\n",
        "            else:\n",
        "             a=a\n",
        "          if a > i:\n",
        "             df.iloc[i,Col_Loc] = df.iloc[a,Col_Loc]-(Incrementby*(a-i)) \n",
        "          else:\n",
        "            df.iloc[i,Col_Loc] = df.iloc[a,Col_Loc]+(Incrementby*(i+a))\n",
        "  else:\n",
        "    print(\"All records are null\")\n",
        "  \n",
        "Missing_Val_Increment_by(\"FlightNumber\",10)\n",
        "print(df)\n",
        "\n"
      ],
      "execution_count": 38,
      "outputs": [
        {
          "output_type": "stream",
          "text": [
            "            From_To  FlightNumber  RecentDelays              Airline\n",
            "0      LoNDon_paris       10045.0      [23, 47]               KLM(!)\n",
            "1      MAdrid_miLAN       10055.0            []    <Air France> (12)\n",
            "2  londON_StockhOlm       10065.0  [24, 43, 87]  (British Airways. )\n",
            "3    Budapest_PaRis       10075.0          [13]       12. Air France\n",
            "4   Brussels_londOn       10085.0      [67, 32]          \"Swiss Air\"\n"
          ],
          "name": "stdout"
        }
      ]
    },
    {
      "cell_type": "code",
      "metadata": {
        "id": "qh4zdGFj9jt-",
        "colab_type": "code",
        "colab": {
          "base_uri": "https://localhost:8080/",
          "height": 153
        },
        "outputId": "bc459556-0c7e-4b9a-c35a-2adf23a8cf10"
      },
      "source": [
        "# 2 The From_To column would be better as two separate columns! Split each\n",
        "# string on the underscore delimiter _ to give a new temporary DataFrame with\n",
        "# the correct values. Assign the correct column names to this temporary\n",
        "# DataFrame.\n",
        "tmp = df.loc[:]\n",
        "tmp[['From','To']] = tmp.From_To.str.split(\"_\",expand=True)\n",
        "#tmp.drop(tmp[['From_To']],axis=1,inplace=True)\n",
        "print(tmp)\n"
      ],
      "execution_count": 39,
      "outputs": [
        {
          "output_type": "stream",
          "text": [
            "            From_To  FlightNumber  ...      From         To\n",
            "0      LoNDon_paris       10045.0  ...    LoNDon      paris\n",
            "1      MAdrid_miLAN       10055.0  ...    MAdrid      miLAN\n",
            "2  londON_StockhOlm       10065.0  ...    londON  StockhOlm\n",
            "3    Budapest_PaRis       10075.0  ...  Budapest      PaRis\n",
            "4   Brussels_londOn       10085.0  ...  Brussels     londOn\n",
            "\n",
            "[5 rows x 6 columns]\n"
          ],
          "name": "stdout"
        }
      ]
    },
    {
      "cell_type": "code",
      "metadata": {
        "id": "eWjiBlVe6MJ_",
        "colab_type": "code",
        "colab": {
          "base_uri": "https://localhost:8080/",
          "height": 255
        },
        "outputId": "80e1bc31-739c-4d69-9afc-1f053e0d0f67"
      },
      "source": [
        "# 3 Notice how the capitalisation of the city names is all mixed up in this\n",
        "# temporary DataFrame. Standardise the strings so that only the first letter is\n",
        "# uppercase (e.g. \"londON\" should become \"London\".)\n",
        "\n",
        "tmp1 = tmp[:]\n",
        "\n",
        "def to_camelcase(str):\n",
        "  return ' '.join([t.title() for t in str.split()])\n",
        "\n",
        "Col_Loc = tmp1.columns.get_loc('From')\n",
        "print(Col_Loc)\n",
        "for i in tmp1['From'].index:\n",
        "  print(tmp1.iloc[i,Col_Loc])\n",
        "  tmp1.iloc[i,Col_Loc]=(to_camelcase(tmp1.iloc[i,Col_Loc]))\n",
        "\n",
        "print(tmp1)"
      ],
      "execution_count": 40,
      "outputs": [
        {
          "output_type": "stream",
          "text": [
            "4\n",
            "LoNDon\n",
            "MAdrid\n",
            "londON\n",
            "Budapest\n",
            "Brussels\n",
            "            From_To  FlightNumber  ...      From         To\n",
            "0      LoNDon_paris       10045.0  ...    London      paris\n",
            "1      MAdrid_miLAN       10055.0  ...    Madrid      miLAN\n",
            "2  londON_StockhOlm       10065.0  ...    London  StockhOlm\n",
            "3    Budapest_PaRis       10075.0  ...  Budapest      PaRis\n",
            "4   Brussels_londOn       10085.0  ...  Brussels     londOn\n",
            "\n",
            "[5 rows x 6 columns]\n"
          ],
          "name": "stdout"
        }
      ]
    },
    {
      "cell_type": "code",
      "metadata": {
        "id": "ZDXTfw3zgv8G",
        "colab_type": "code",
        "colab": {
          "base_uri": "https://localhost:8080/",
          "height": 119
        },
        "outputId": "98ab2c04-f653-434b-89a1-f03174e6b53f"
      },
      "source": [
        "# 4 Delete the From_To column from df and attach the temporary DataFrame\n",
        "# from the previous questions.\n",
        "df.drop(df[['From_To']],axis=1,inplace=True)\n",
        "df[['From','To']]=tmp1[['From','To']]\n",
        "print(df)\n"
      ],
      "execution_count": 41,
      "outputs": [
        {
          "output_type": "stream",
          "text": [
            "   FlightNumber  RecentDelays              Airline      From         To\n",
            "0       10045.0      [23, 47]               KLM(!)    London      paris\n",
            "1       10055.0            []    <Air France> (12)    Madrid      miLAN\n",
            "2       10065.0  [24, 43, 87]  (British Airways. )    London  StockhOlm\n",
            "3       10075.0          [13]       12. Air France  Budapest      PaRis\n",
            "4       10085.0      [67, 32]          \"Swiss Air\"  Brussels     londOn\n"
          ],
          "name": "stdout"
        }
      ]
    },
    {
      "cell_type": "code",
      "metadata": {
        "id": "EMpNDTrShdKN",
        "colab_type": "code",
        "colab": {
          "base_uri": "https://localhost:8080/",
          "height": 204
        },
        "outputId": "b7609638-0cba-4f3a-9ded-83ce9c167fb8"
      },
      "source": [
        "# 5 Expand the Series of lists into a DataFrame named delays, rename the columns\n",
        "# delay_1, delay_2, etc. and replace the unwanted RecentDelays column in df\n",
        "# with delays.\n",
        "#import itertools\n",
        "#L=df['RecentDelays']\n",
        "#print(list(itertools.chain.from_iterable(L)))\n",
        "\n",
        "Rdelays = df['RecentDelays'].apply(pd.Series)\n",
        "Rdelays = Rdelays.rename(columns = lambda x : 'RecentDelays_' + str(x))\n",
        "Rdelays = pd.concat([df[:], Rdelays[:]], axis=1)\n",
        "Rdelays = Rdelays.drop(Rdelays[['RecentDelays']],axis=1)\n",
        "Rdelays"
      ],
      "execution_count": 16,
      "outputs": [
        {
          "output_type": "execute_result",
          "data": {
            "text/html": [
              "<div>\n",
              "<style scoped>\n",
              "    .dataframe tbody tr th:only-of-type {\n",
              "        vertical-align: middle;\n",
              "    }\n",
              "\n",
              "    .dataframe tbody tr th {\n",
              "        vertical-align: top;\n",
              "    }\n",
              "\n",
              "    .dataframe thead th {\n",
              "        text-align: right;\n",
              "    }\n",
              "</style>\n",
              "<table border=\"1\" class=\"dataframe\">\n",
              "  <thead>\n",
              "    <tr style=\"text-align: right;\">\n",
              "      <th></th>\n",
              "      <th>From_To</th>\n",
              "      <th>FlightNumber</th>\n",
              "      <th>Airline</th>\n",
              "      <th>RecentDelays_0</th>\n",
              "      <th>RecentDelays_1</th>\n",
              "      <th>RecentDelays_2</th>\n",
              "    </tr>\n",
              "  </thead>\n",
              "  <tbody>\n",
              "    <tr>\n",
              "      <th>0</th>\n",
              "      <td>LoNDon_paris</td>\n",
              "      <td>NaN</td>\n",
              "      <td>KLM(!)</td>\n",
              "      <td>23.0</td>\n",
              "      <td>47.0</td>\n",
              "      <td>NaN</td>\n",
              "    </tr>\n",
              "    <tr>\n",
              "      <th>1</th>\n",
              "      <td>MAdrid_miLAN</td>\n",
              "      <td>NaN</td>\n",
              "      <td>&lt;Air France&gt; (12)</td>\n",
              "      <td>NaN</td>\n",
              "      <td>NaN</td>\n",
              "      <td>NaN</td>\n",
              "    </tr>\n",
              "    <tr>\n",
              "      <th>2</th>\n",
              "      <td>londON_StockhOlm</td>\n",
              "      <td>NaN</td>\n",
              "      <td>(British Airways. )</td>\n",
              "      <td>24.0</td>\n",
              "      <td>43.0</td>\n",
              "      <td>87.0</td>\n",
              "    </tr>\n",
              "    <tr>\n",
              "      <th>3</th>\n",
              "      <td>Budapest_PaRis</td>\n",
              "      <td>10075.0</td>\n",
              "      <td>12. Air France</td>\n",
              "      <td>13.0</td>\n",
              "      <td>NaN</td>\n",
              "      <td>NaN</td>\n",
              "    </tr>\n",
              "    <tr>\n",
              "      <th>4</th>\n",
              "      <td>Brussels_londOn</td>\n",
              "      <td>NaN</td>\n",
              "      <td>\"Swiss Air\"</td>\n",
              "      <td>67.0</td>\n",
              "      <td>32.0</td>\n",
              "      <td>NaN</td>\n",
              "    </tr>\n",
              "  </tbody>\n",
              "</table>\n",
              "</div>"
            ],
            "text/plain": [
              "            From_To  FlightNumber  ... RecentDelays_1  RecentDelays_2\n",
              "0      LoNDon_paris           NaN  ...           47.0             NaN\n",
              "1      MAdrid_miLAN           NaN  ...            NaN             NaN\n",
              "2  londON_StockhOlm           NaN  ...           43.0            87.0\n",
              "3    Budapest_PaRis       10075.0  ...            NaN             NaN\n",
              "4   Brussels_londOn           NaN  ...           32.0             NaN\n",
              "\n",
              "[5 rows x 6 columns]"
            ]
          },
          "metadata": {
            "tags": []
          },
          "execution_count": 16
        }
      ]
    }
  ]
}